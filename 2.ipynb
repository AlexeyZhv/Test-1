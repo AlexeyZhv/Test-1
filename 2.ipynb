{
 "cells": [
  {
   "cell_type": "markdown",
   "metadata": {},
   "source": [
    "NumPy from task_template.md"
   ]
  },
  {
   "cell_type": "code",
   "execution_count": 1,
   "metadata": {},
   "outputs": [],
   "source": [
    "import numpy as np\n",
    "import matplotlib.pyplot as plt"
   ]
  },
  {
   "cell_type": "code",
   "execution_count": 14,
   "metadata": {},
   "outputs": [
    {
     "name": "stdout",
     "output_type": "stream",
     "text": [
      "0.0\n"
     ]
    }
   ],
   "source": [
    "#Task 2\n",
    "def angle(a, b):\n",
    "    return np.inner(a, b) / (np.sqrt(np.sum(a ** 2)) + np.sqrt(np.sum(b ** 2)))"
   ]
  },
  {
   "cell_type": "code",
   "execution_count": null,
   "metadata": {},
   "outputs": [],
   "source": [
    "#Task 1\n",
    "def multi(a, b):\n",
    "    return np.dot(a, b)\n"
   ]
  },
  {
   "cell_type": "code",
   "execution_count": null,
   "metadata": {},
   "outputs": [],
   "source": [
    "#Task 3\n",
    "def linsolve(a, b):\n",
    "    return np.linalg.solve(a, b)"
   ]
  },
  {
   "cell_type": "code",
   "execution_count": 15,
   "metadata": {},
   "outputs": [],
   "source": [
    "#Task 4\n",
    "def plot(func, a, b):\n",
    "    x = np.linspace(a, b, a - b * 10)\n",
    "    y - func(x)\n",
    "    p = plt.plot(x, y)\n",
    "    p.savefig(\"output.png\")\n"
   ]
  },
  {
   "cell_type": "code",
   "execution_count": 16,
   "metadata": {},
   "outputs": [],
   "source": [
    "#Task 5 (Gaussian blur)\n",
    "from PIL import Image\n",
    "def blur(img1, weights_array):\n",
    "    weights = weights_array / weights_array.sum()\n",
    "    for i in range(img1.shape[2]):\n",
    "        img1[:,:,i] = scipy.ndimage.convolve(img1[:,:,i], weights)\n",
    "    img1 = img1.astype('uint8')\n",
    "    return img1\n",
    "    pass\n",
    "\n",
    "def gaussian_blur(img_gauss, sigma):\n",
    "    wmat = np.zeros([(int(6 * sigma) // 2 * 2 + 1), (int(6 * sigma) // 2 * 2 + 1)])\n",
    "    for i in range(len(wmat)):\n",
    "        for j in range(len(wmat[i])):\n",
    "            wmat[i][j] = np.exp(-0.5 * ((i - int(6 * sigma) // 2 + 1) ** 2 + (j - int(6 * sigma) // 2 + 1) ** 2) / sigma ** 2)\n",
    "    return blur(img_gauss, wmat)\n",
    "    pass\n",
    "\n",
    "def final(img_path, res_path, sigma):\n",
    "    plt.imshow(gaussian_blur(Image.open(img_path), sigma)).savefig(res_path)\n",
    "\n"
   ]
  }
 ],
 "metadata": {
  "kernelspec": {
   "display_name": "Python 3.9.13 64-bit (microsoft store)",
   "language": "python",
   "name": "python3"
  },
  "language_info": {
   "codemirror_mode": {
    "name": "ipython",
    "version": 3
   },
   "file_extension": ".py",
   "mimetype": "text/x-python",
   "name": "python",
   "nbconvert_exporter": "python",
   "pygments_lexer": "ipython3",
   "version": "3.9.13"
  },
  "orig_nbformat": 4,
  "vscode": {
   "interpreter": {
    "hash": "7a4ad854239749eeaf175d6ba0e1c7849580bc9ebfcf82e217ff921160095d06"
   }
  }
 },
 "nbformat": 4,
 "nbformat_minor": 2
}
