{
 "cells": [
  {
   "cell_type": "markdown",
   "metadata": {},
   "source": [
    "1 - Базовый питон from tasks.pdf"
   ]
  },
  {
   "cell_type": "code",
   "execution_count": 1,
   "metadata": {},
   "outputs": [
    {
     "name": "stdout",
     "output_type": "stream",
     "text": [
      "-1\n"
     ]
    }
   ],
   "source": [
    "#Task 1\n",
    "n = input()\n",
    "if len(n) < 2:\n",
    "    print(-1)\n",
    "else:\n",
    "    print(n(-1))"
   ]
  },
  {
   "cell_type": "code",
   "execution_count": 40,
   "metadata": {},
   "outputs": [
    {
     "name": "stdout",
     "output_type": "stream",
     "text": [
      "True\n"
     ]
    }
   ],
   "source": [
    "#Task 2\n",
    "\n",
    "alf = \"ABCDEFGHIJKLMNOPQRSTUVWXYZ\"\n",
    "s = input()\n",
    "s = s.upper()\n",
    "for i in s:\n",
    "    if not (i in alf):\n",
    "        s = s.replace(i, \"\")\n",
    "\n",
    "if s == s[::-1]:\n",
    "    print(True)\n",
    "else:\n",
    "    print(False)\n"
   ]
  },
  {
   "cell_type": "code",
   "execution_count": 45,
   "metadata": {},
   "outputs": [
    {
     "name": "stdout",
     "output_type": "stream",
     "text": [
      "0\n",
      "1\n",
      "2\n",
      "3\n",
      "4\n",
      "5\n",
      "6\n",
      "7\n",
      "8\n",
      "9\n"
     ]
    }
   ],
   "source": [
    "#Task 3\n",
    "def month(number):\n",
    "    \n"
   ]
  },
  {
   "cell_type": "code",
   "execution_count": 51,
   "metadata": {},
   "outputs": [
    {
     "name": "stdout",
     "output_type": "stream",
     "text": [
      "-198776543210\n"
     ]
    }
   ],
   "source": [
    "#Task 4\n",
    "n_init = input()\n",
    "\n",
    "if int(n_init) > 0:\n",
    "    n = \"1\"*n_init.count(\"1\") + \"0\"*n_init.count(\"0\") + \"2\"*n_init.count(\"2\") + \"3\"*n_init.count(\"3\") + \"4\"*n_init.count(\"4\") + \"5\"*n_init.count(\"5\") + \"6\"*n_init.count(\"6\") + \"7\"*n_init.count(\"7\") + \"8\"*n_init.count(\"8\") + \"9\"*n_init.count(\"9\")\n",
    "else:\n",
    "    n = \"0\"*n_init.count(\"0\") + \"1\"*n_init.count(\"1\") + \"2\"*n_init.count(\"2\") + \"3\"*n_init.count(\"3\") + \"4\"*n_init.count(\"4\") + \"5\"*n_init.count(\"5\") + \"6\"*n_init.count(\"6\") + \"7\"*n_init.count(\"7\") + \"8\"*n_init.count(\"8\") + \"9\"*n_init.count(\"9\")\n",
    "    n = \"-\" + n[::-1]\n",
    "print(int(n))"
   ]
  },
  {
   "cell_type": "code",
   "execution_count": 76,
   "metadata": {},
   "outputs": [
    {
     "data": {
      "text/plain": [
       "0"
      ]
     },
     "execution_count": 76,
     "metadata": {},
     "output_type": "execute_result"
    }
   ],
   "source": [
    "#Task 5\n",
    "def fact(n):\n",
    "    array = []  \n",
    "    a = 2\n",
    "    n_arr = []\n",
    "    m = 0\n",
    "    while n >= a:\n",
    "        if n / a == n // a:\n",
    "            n = n // a\n",
    "            array.append(a)\n",
    "            m += 1\n",
    "        else:\n",
    "            n_arr.append(m)\n",
    "            m = 0\n",
    "            a += 1\n",
    "    n_arr.append(m)\n",
    "    m = 0\n",
    "    return max(n_arr)\n",
    "    "
   ]
  },
  {
   "cell_type": "code",
   "execution_count": 127,
   "metadata": {},
   "outputs": [
    {
     "name": "stdout",
     "output_type": "stream",
     "text": [
      "0\n"
     ]
    },
    {
     "data": {
      "text/plain": [
       "'11.0'"
      ]
     },
     "execution_count": 127,
     "metadata": {},
     "output_type": "execute_result"
    }
   ],
   "source": [
    "#Task 6\n",
    "def minus(a):\n",
    "    a = str(a)\n",
    "    n = float(a)\n",
    "    score = 0\n",
    "    if n == int(n):\n",
    "        n -= 1\n",
    "    else:\n",
    "        score = len(str(int(n))) - (len(a) - 1)\n",
    "        n -= 1 / (10 ** (- score))\n",
    "    print(score)\n",
    "    return str(n)\n",
    "        \n",
    "\n",
    "minus(12)"
   ]
  }
 ],
 "metadata": {
  "kernelspec": {
   "display_name": "Python 3.9.13 64-bit (microsoft store)",
   "language": "python",
   "name": "python3"
  },
  "language_info": {
   "codemirror_mode": {
    "name": "ipython",
    "version": 3
   },
   "file_extension": ".py",
   "mimetype": "text/x-python",
   "name": "python",
   "nbconvert_exporter": "python",
   "pygments_lexer": "ipython3",
   "version": "3.9.13"
  },
  "orig_nbformat": 4,
  "vscode": {
   "interpreter": {
    "hash": "7a4ad854239749eeaf175d6ba0e1c7849580bc9ebfcf82e217ff921160095d06"
   }
  }
 },
 "nbformat": 4,
 "nbformat_minor": 2
}
